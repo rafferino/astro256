{
 "cells": [
  {
   "cell_type": "code",
   "execution_count": null,
   "metadata": {},
   "outputs": [],
   "source": [
    "import astropy.units as u\n",
    "import numpy as np\n",
    "from astroquery.gaia import Gaia\n",
    "from joblib import Memory\n",
    "import matplotlib.pyplot as plt\n",
    "from matplotlib import colors"
   ]
  },
  {
   "cell_type": "code",
   "execution_count": null,
   "metadata": {},
   "outputs": [],
   "source": [
    "def get_gaia_query_results(ra=66.75, dec=15.86, radius=2, conds=\"\", limit=50000):\n",
    "    add = \"\"\n",
    "    if conds != \"\":\n",
    "        add = f\"AND {conds}\"\n",
    "    query = f\"\"\"\n",
    "    SELECT TOP {limit} *\n",
    "    FROM gaiaedr3.gaia_source\n",
    "    WHERE \n",
    "        CONTAINS(\n",
    "            POINT('ICRS',gaiaedr3.gaia_source.ra,gaiaedr3.gaia_source.dec),\n",
    "            CIRCLE('ICRS',{ra},{dec},{radius})\n",
    "        )=1\n",
    "    \"\"\" + add\n",
    "    job = Gaia.launch_job_async(query)\n",
    "    return job.get_results()"
   ]
  },
  {
   "cell_type": "code",
   "execution_count": null,
   "metadata": {},
   "outputs": [],
   "source": [
    "location = \"./cachedir\"\n",
    "memory = Memory(location, verbose=0)\n",
    "get_gaia_query_results_cached = memory.cache(get_gaia_query_results)"
   ]
  },
  {
   "cell_type": "code",
   "execution_count": null,
   "metadata": {},
   "outputs": [],
   "source": [
    "stringent_conds = '''\n",
    "    parallax_over_error > 10\n",
    "    AND ABS(parallax - 21.052) < 5\n",
    "    AND ABS(pmra-4.614) < 300\n",
    "    AND ABS(pmdec+7.705) < 400\n",
    "    AND phot_g_mean_flux_over_error>25\n",
    "    AND phot_rp_mean_flux_over_error>10\n",
    "    AND phot_bp_mean_flux_over_error>10\n",
    "    AND pmra_error < 0.1\n",
    "    AND pmdec_error < 0.1\n",
    "    AND phot_bp_rp_excess_factor < 1.3+0.06*power(phot_bp_mean_mag-phot_rp_mean_mag,2)\n",
    "    AND phot_bp_rp_excess_factor > 1.0+0.015*power(phot_bp_mean_mag-phot_rp_mean_mag,2)\n",
    "    AND astrometric_excess_noise < 1\n",
    "'''\n",
    "print(\"Starting stringent query...\")\n",
    "res_stringent = get_gaia_query_results_cached(radius = 5, conds = stringent_conds)"
   ]
  },
  {
   "cell_type": "code",
   "execution_count": null,
   "metadata": {
    "scrolled": false
   },
   "outputs": [],
   "source": [
    "less_conds = '''\n",
    "    parallax_over_error > 10\n",
    "    AND phot_g_mean_flux_over_error>50\n",
    "    AND phot_rp_mean_flux_over_error>20\n",
    "    AND phot_bp_mean_flux_over_error>20\n",
    "    AND pmra_error < 0.1\n",
    "    AND pmdec_error < 0.1\n",
    "    AND phot_bp_rp_excess_factor < 1.3+0.06*power(phot_bp_mean_mag-phot_rp_mean_mag,2)\n",
    "    AND phot_bp_rp_excess_factor > 1.0+0.015*power(phot_bp_mean_mag-phot_rp_mean_mag,2)\n",
    "    AND astrometric_excess_noise < 1\n",
    "'''\n",
    "print(\"Starting condless query...\")\n",
    "res_condless = get_gaia_query_results_cached(radius = 5, conds=less_conds)"
   ]
  },
  {
   "cell_type": "markdown",
   "metadata": {},
   "source": [
    "### Stringent Conditions"
   ]
  },
  {
   "cell_type": "code",
   "execution_count": null,
   "metadata": {},
   "outputs": [],
   "source": [
    "res_stringent"
   ]
  },
  {
   "cell_type": "code",
   "execution_count": null,
   "metadata": {},
   "outputs": [],
   "source": [
    "bp_rp = res_stringent['bp_rp'].data\n",
    "phot_g_mean_mag = res_stringent['phot_g_mean_mag'].data\n",
    "parallax = res_stringent['parallax'].data\n",
    "ra = res_stringent['pmra'].data\n",
    "dec = res_stringent['pmdec'].data\n",
    "mg = phot_g_mean_mag+5*np.log10(parallax)-10"
   ]
  },
  {
   "cell_type": "code",
   "execution_count": null,
   "metadata": {},
   "outputs": [],
   "source": [
    "fig, ax = plt.subplots(figsize=(8,8))\n",
    "h = ax.hist2d(bp_rp,mg,bins=300, norm=colors.PowerNorm(0.5), zorder=0.5)\n",
    "ax.scatter(bp_rp, mg, alpha=0.05, s=1, color='k', zorder=0)\n",
    "ax.invert_yaxis()\n",
    "cb = plt.colorbar(h[3], ax=ax, pad=0.02)\n",
    "plt.show()"
   ]
  },
  {
   "cell_type": "code",
   "execution_count": null,
   "metadata": {},
   "outputs": [],
   "source": [
    "print(f\"RA mean: {np.mean(ra)}, DEC mean:{np.mean(dec)}\")\n",
    "print(f\"RA max: {np.max(ra)}, DEC max: {np.max(dec)}\")\n",
    "print(f\"RA min: {np.min(ra)}, DEC min: {np.min(dec)}\")"
   ]
  },
  {
   "cell_type": "code",
   "execution_count": null,
   "metadata": {},
   "outputs": [],
   "source": [
    "fig, ax = plt.subplots(figsize=(8,8))\n",
    "ax.scatter(ra, dec, s=1, color='k')\n",
    "plt.xlabel(\"Proper Motion: Right Ascension\")\n",
    "plt.ylabel(\"Proper Motion: Declination\")\n",
    "plt.show()"
   ]
  },
  {
   "cell_type": "markdown",
   "metadata": {},
   "source": [
    "### Conditionless (Limit 50,000)\n"
   ]
  },
  {
   "cell_type": "code",
   "execution_count": null,
   "metadata": {},
   "outputs": [],
   "source": [
    "res_condless"
   ]
  },
  {
   "cell_type": "code",
   "execution_count": null,
   "metadata": {},
   "outputs": [],
   "source": [
    "res_condless_pd = res_condless.to_pandas()\n",
    "res_condless_pd = res_condless_pd[res_condless_pd['parallax'].notna()]\n",
    "res_condless_pd = res_condless_pd[res_condless_pd['parallax'] > 0.5]\n",
    "res_condless_pd = res_condless_pd[res_condless_pd['bp_rp'].notna()]"
   ]
  },
  {
   "cell_type": "code",
   "execution_count": null,
   "metadata": {},
   "outputs": [],
   "source": [
    "bp_rp = res_condless_pd['bp_rp']\n",
    "phot_g_mean_mag = res_condless_pd['phot_g_mean_mag']\n",
    "parallax = res_condless_pd['parallax']\n",
    "ra = res_condless_pd['pmra']\n",
    "dec = res_condless_pd['pmdec']\n",
    "mg = phot_g_mean_mag+5*np.log10(parallax)-10"
   ]
  },
  {
   "cell_type": "code",
   "execution_count": null,
   "metadata": {},
   "outputs": [],
   "source": [
    "fig, ax = plt.subplots(figsize=(8,8))\n",
    "h = ax.hist2d(bp_rp,mg,bins=300, norm=colors.PowerNorm(0.5), zorder=0.5)\n",
    "ax.scatter(bp_rp, mg, alpha=0.05, s=1, color='k', zorder=0)\n",
    "ax.invert_yaxis()\n",
    "cb = plt.colorbar(h[3], ax=ax, pad=0.02)\n",
    "plt.show()"
   ]
  },
  {
   "cell_type": "code",
   "execution_count": null,
   "metadata": {},
   "outputs": [],
   "source": [
    "fig, ax = plt.subplots(figsize=(8,8))\n",
    "ax.scatter(ra, dec, alpha=0.05, s=1, color='k', zorder=0)\n",
    "ax.invert_yaxis()\n",
    "cb = plt.colorbar(h[3], ax=ax, pad=0.02)\n",
    "plt.show()"
   ]
  },
  {
   "cell_type": "markdown",
   "metadata": {},
   "source": [
    "## Isochrones, MIST Models"
   ]
  },
  {
   "cell_type": "code",
   "execution_count": null,
   "metadata": {},
   "outputs": [],
   "source": [
    "import sys\n",
    "sys.path.append(\".\")\n",
    "from read_mist_models import ISOCMD"
   ]
  },
  {
   "cell_type": "code",
   "execution_count": null,
   "metadata": {},
   "outputs": [],
   "source": [
    "mist_fname = 'MIST_iso_6017590e63448.iso.cmd'\n",
    "isocmd = ISOCMD(mist_fname)"
   ]
  },
  {
   "cell_type": "code",
   "execution_count": null,
   "metadata": {},
   "outputs": [],
   "source": [
    "print('version: ', isocmd.version)\n",
    "print('photometric system: ', isocmd.photo_sys)\n",
    "print('abundances: ', isocmd.abun)\n",
    "print('rotation: ', isocmd.rot)\n",
    "print('ages: ', [round(x,2) for x in isocmd.ages])\n",
    "print('number of ages: ', isocmd.num_ages)\n",
    "print('available columns: ', isocmd.hdr_list)\n",
    "print('Av extinction: ', isocmd.Av_extinction)"
   ]
  },
  {
   "cell_type": "code",
   "execution_count": null,
   "metadata": {},
   "outputs": [],
   "source": [
    "def plot_temp_lum(isocmd = isocmd, age_index=5.0):\n",
    "    age_ind = isocmd.age_index(age_index)\n",
    "#     logTeff = isocmd.isocmds[age_ind]['log_Teff']\n",
    "    logTeff = isocmd.isocmds[age_ind]['Gaia_BP_DR2Rev'] - isocmd.isocmds[age_ind]['Gaia_RP_DR2Rev']\n",
    "    logL = isocmd.isocmds[age_ind]['log_L']\n",
    "#     print(isocmd.isocmds[age_ind]['[Fe/H]'])\n",
    "    plt.plot(logTeff, logL)\n",
    "    plt.xlabel(\"logTeff\")\n",
    "    plt.ylabel(\"logL\")"
   ]
  },
  {
   "cell_type": "code",
   "execution_count": null,
   "metadata": {
    "scrolled": false
   },
   "outputs": [],
   "source": [
    "ages = np.array(isocmd.ages)\n",
    "for age in ages[::5]:\n",
    "    plot_temp_lum(isocmd, age_index = age)"
   ]
  },
  {
   "cell_type": "code",
   "execution_count": null,
   "metadata": {},
   "outputs": [],
   "source": [
    "fig, ax = plt.subplots(figsize=(8,8))\n",
    "h = ax.hist2d(bp_rp,mg,bins=300, norm=colors.PowerNorm(0.5), zorder=0.5)\n",
    "ax.scatter(bp_rp, mg, alpha=0.05, s=1, color='k', zorder=0)\n",
    "plot_temp_lum(isocmd_2, 8.9, invert_y = False)\n",
    "ax.invert_yaxis()\n",
    "cb = plt.colorbar(h[3], ax=ax, pad=0.02)\n",
    "plt.show()"
   ]
  },
  {
   "cell_type": "code",
   "execution_count": null,
   "metadata": {},
   "outputs": [],
   "source": []
  }
 ],
 "metadata": {
  "kernelspec": {
   "display_name": "Python 3",
   "language": "python",
   "name": "python3"
  },
  "language_info": {
   "codemirror_mode": {
    "name": "ipython",
    "version": 3
   },
   "file_extension": ".py",
   "mimetype": "text/x-python",
   "name": "python",
   "nbconvert_exporter": "python",
   "pygments_lexer": "ipython3",
   "version": "3.6.9"
  }
 },
 "nbformat": 4,
 "nbformat_minor": 4
}
