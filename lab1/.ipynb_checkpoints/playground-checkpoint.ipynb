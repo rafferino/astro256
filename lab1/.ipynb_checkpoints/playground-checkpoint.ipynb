{
 "cells": [
  {
   "cell_type": "code",
   "execution_count": 1,
   "metadata": {},
   "outputs": [
    {
     "name": "stdout",
     "output_type": "stream",
     "text": [
      "Created TAP+ (v1.2.1) - Connection:\n",
      "\tHost: gea.esac.esa.int\n",
      "\tUse HTTPS: True\n",
      "\tPort: 443\n",
      "\tSSL Port: 443\n",
      "Created TAP+ (v1.2.1) - Connection:\n",
      "\tHost: geadata.esac.esa.int\n",
      "\tUse HTTPS: True\n",
      "\tPort: 443\n",
      "\tSSL Port: 443\n"
     ]
    }
   ],
   "source": [
    "#Stars and stuff\n",
    "from astroquery.gaia import Gaia\n",
    "from astropy.io.votable import parse, parse_single_table\n",
    "from astropy.timeseries import LombScargle\n",
    "\n",
    "#Numpy\n",
    "import numpy as np\n",
    "\n",
    "#Matplotlib\n",
    "import matplotlib.pyplot as plt\n",
    "\n",
    "#Caching\n",
    "from joblib import Memory\n",
    "\n",
    "#File manipulation\n",
    "from urllib.request import urlopen\n",
    "import io\n",
    "from glob import glob\n",
    "import os"
   ]
  },
  {
   "cell_type": "code",
   "execution_count": 16,
   "metadata": {},
   "outputs": [],
   "source": [
    "def get_Gband(data,index,source_id):\n",
    "    if index!=None:\n",
    "        selected_row=data[index]\n",
    "        source_id=selected_row['source_id']\n",
    "    lc_f = f\"lightcurve_files/{source_id}.xml\"\n",
    "    if os.path.exists(lc_f):\n",
    "        votable = parse_single_table(lc_f)\n",
    "    else:\n",
    "        url = selected_row['epoch_photometry_url']\n",
    "        votable = parse_single_table(url)\n",
    "        \n",
    "    Gband = votable.array[votable.array['band'] == 'G']\n",
    "    return Gband"
   ]
  },
  {
   "cell_type": "code",
   "execution_count": null,
   "metadata": {},
   "outputs": [],
   "source": [
    "def plot_magnitude(data, index, source_id, p=False):\n",
    "    Gband = get_Gband(data,index,source_id)\n",
    "    mag = Gband['mag']"
   ]
  },
  {
   "cell_type": "code",
   "execution_count": 2,
   "metadata": {},
   "outputs": [],
   "source": [
    "def estimate_period(data, index, source_id, p=False):\n",
    "    Gband = get_Gband(data,index,source_id)\n",
    "    mag = Gband['mag']\n",
    "    flux = Gband['flux']\n",
    "    time = Gband['time']\n",
    "    flux_err = Gband['flux_error']\n",
    "    mag_uncertainty = 1.09/Gband['flux_over_error']\n",
    "        \n",
    "    pf_all = data['pf']\n",
    "    f_max = 1/np.min(pf_all)\n",
    "    f_min = 1/np.max(pf_all)\n",
    "    freq, power = LombScargle(time, flux, flux_err).autopower(maximum_frequency=f_max,\n",
    "                                                             minimum_frequency=f_min,\n",
    "                                                             nyquist_factor=1)\n",
    "\n",
    "    period = 1/freq[np.argmax(power)]\n",
    "    recorded_period = selected_row['pf']\n",
    "      \n",
    "    phase = time % period\n",
    "    if p:\n",
    "        plt.figure(figsize=(8,5))\n",
    "        plt.title(\"Magnitude w/ Magnitude Uncertainty\")\n",
    "        plt.fill_between(time, mag+mag_uncertainty/2,mag-mag_uncertainty/2, color='blue', alpha=0.5)\n",
    "        plt.xlabel(\"Time\")\n",
    "        plt.ylabel(\"Magnitude\")\n",
    "        \n",
    "        plt.figure(figsize=(8,5))\n",
    "        plt.plot(freq, power, '-k')\n",
    "        plt.xlabel(\"Frequency\")\n",
    "        plt.ylabel(\"Spectral Power\")\n",
    "        \n",
    "        fig, (ax1,ax2) = plt.subplots(1,2, figsize=(16,5))\n",
    "        \n",
    "        ax1.scatter(phase, flux)\n",
    "        ax1.set(xlabel=\"Phase\", ylabel=\"Flux\")\n",
    "        \n",
    "        ax2.scatter(phase, mag)\n",
    "        ax2.set(xlabel=\"Magnitude\", ylabel=\"Flux\")\n",
    "        \n",
    "        plt.show()\n",
    "        \n",
    "        print(f\"Estimated period: 1/{freq[np.argmax(power)]:.5f} = {period:.5f}\")\n",
    "        print(f\"Period as reported by vari_rrlyrae: {recorded_period:.5f}\")\n",
    "        print(f\"RMSE: {np.sqrt(np.mean(np.square(period - recorded_period)))}\")\n",
    "        print()\n",
    "        print(f\"Estimated mean: {np.log(np.average(np.exp(mag)))}\")\n",
    "#         print(f\"Normal arithmetic mean: {np.mean(mag)}\")\n",
    "        \n",
    "        \n",
    "    return period"
   ]
  },
  {
   "cell_type": "code",
   "execution_count": 3,
   "metadata": {},
   "outputs": [],
   "source": [
    "def get_gaia_query_rrlyrae(num_stars = 100, num_clean_epochs = 40, conds=None, verbose=False):\n",
    "    add = \"\"\n",
    "    if conds is not None:\n",
    "        add = f\"AND {conds}\"\n",
    "    query = f'''\n",
    "        SELECT TOP {num_stars} *\n",
    "        FROM gaiadr2.gaia_source as gaia\n",
    "        JOIN gaiadr2.vari_rrlyrae using (source_id)\n",
    "        WHERE\n",
    "            num_clean_epochs_g > {num_clean_epochs}\n",
    "            AND pf IS NOT NULL\n",
    "    ''' + add\n",
    "    if verbose:\n",
    "        print(query)\n",
    "    job = Gaia.launch_job_async(query)\n",
    "    return job.get_results()"
   ]
  },
  {
   "cell_type": "code",
   "execution_count": 10,
   "metadata": {},
   "outputs": [],
   "source": [
    "def setup_Q5(flux, time, k, w):\n",
    "    assert len(flux) == len(time), \"Length of flux and time arrays must be equal\"\n",
    "    num_samps = 2*k+1\n",
    "    samp_mask = np.random.choice(len(flux), num_samps, replace=False)\n",
    "    flux_samp = flux[samp_mask]\n",
    "    time_samp = flux[samp_mask]\n",
    "    X = np.zeros((num_samps, num_samps))\n",
    "    for m in range(num_samps):\n",
    "        f, t = flux_samp[m], time_samp[m]\n",
    "        X[m][0] = 1\n",
    "        s = np.zeros(len(2*k))\n",
    "        s[0::2] = np.sin(range(k)*w*t)\n",
    "        s[1::2] = np.cos(range(k*w*t))\n",
    "        X[m][1:] = s\n",
    "        print(X)\n",
    "        break\n",
    "            \n",
    "        \n",
    "        "
   ]
  },
  {
   "cell_type": "code",
   "execution_count": 4,
   "metadata": {},
   "outputs": [],
   "source": [
    "location = \"./cachedir\"\n",
    "memory = Memory(location, verbose=0)\n",
    "get_gaia_query_rrlyrae_cached = memory.cache(get_gaia_query_rrlyrae)"
   ]
  },
  {
   "cell_type": "code",
   "execution_count": 5,
   "metadata": {},
   "outputs": [
    {
     "data": {
      "text/html": [
       "<i>Table length=10</i>\n",
       "<table id=\"table140608528044664\" class=\"table-striped table-bordered table-condensed\">\n",
       "<thead><tr><th>solution_id</th><th>designation</th><th>random_index</th><th>ref_epoch</th><th>ra</th><th>ra_error</th><th>dec</th><th>dec_error</th><th>parallax</th><th>parallax_error</th><th>parallax_over_error</th><th>pmra</th><th>pmra_error</th><th>pmdec</th><th>pmdec_error</th><th>ra_dec_corr</th><th>ra_parallax_corr</th><th>ra_pmra_corr</th><th>ra_pmdec_corr</th><th>dec_parallax_corr</th><th>dec_pmra_corr</th><th>dec_pmdec_corr</th><th>parallax_pmra_corr</th><th>parallax_pmdec_corr</th><th>pmra_pmdec_corr</th><th>astrometric_n_obs_al</th><th>astrometric_n_obs_ac</th><th>astrometric_n_good_obs_al</th><th>astrometric_n_bad_obs_al</th><th>astrometric_gof_al</th><th>astrometric_chi2_al</th><th>astrometric_excess_noise</th><th>astrometric_excess_noise_sig</th><th>astrometric_params_solved</th><th>astrometric_primary_flag</th><th>astrometric_weight_al</th><th>astrometric_pseudo_colour</th><th>astrometric_pseudo_colour_error</th><th>mean_varpi_factor_al</th><th>astrometric_matched_observations</th><th>visibility_periods_used</th><th>astrometric_sigma5d_max</th><th>frame_rotator_object_type</th><th>matched_observations</th><th>duplicated_source</th><th>phot_g_n_obs</th><th>phot_g_mean_flux</th><th>phot_g_mean_flux_error</th><th>phot_g_mean_flux_over_error</th><th>phot_g_mean_mag</th><th>phot_bp_n_obs</th><th>phot_bp_mean_flux</th><th>phot_bp_mean_flux_error</th><th>phot_bp_mean_flux_over_error</th><th>phot_bp_mean_mag</th><th>phot_rp_n_obs</th><th>phot_rp_mean_flux</th><th>phot_rp_mean_flux_error</th><th>phot_rp_mean_flux_over_error</th><th>phot_rp_mean_mag</th><th>phot_bp_rp_excess_factor</th><th>phot_proc_mode</th><th>bp_rp</th><th>bp_g</th><th>g_rp</th><th>radial_velocity</th><th>radial_velocity_error</th><th>rv_nb_transits</th><th>rv_template_teff</th><th>rv_template_logg</th><th>rv_template_fe_h</th><th>phot_variable_flag</th><th>l</th><th>b</th><th>ecl_lon</th><th>ecl_lat</th><th>priam_flags</th><th>teff_val</th><th>teff_percentile_lower</th><th>teff_percentile_upper</th><th>a_g_val</th><th>a_g_percentile_lower</th><th>a_g_percentile_upper</th><th>e_bp_min_rp_val</th><th>e_bp_min_rp_percentile_lower</th><th>e_bp_min_rp_percentile_upper</th><th>flame_flags</th><th>radius_val</th><th>radius_percentile_lower</th><th>radius_percentile_upper</th><th>lum_val</th><th>lum_percentile_lower</th><th>lum_percentile_upper</th><th>datalink_url</th><th>epoch_photometry_url</th><th>solution_id_2</th><th>pf</th><th>pf_error</th><th>p1_o</th><th>p1_o_error</th><th>p2_o</th><th>p2_o_error</th><th>p3_o</th><th>p3_o_error</th><th>epoch_g</th><th>epoch_g_error</th><th>epoch_bp</th><th>epoch_bp_error</th><th>epoch_rp</th><th>epoch_rp_error</th><th>int_average_g</th><th>int_average_g_error</th><th>int_average_bp</th><th>int_average_bp_error</th><th>int_average_rp</th><th>int_average_rp_error</th><th>peak_to_peak_g</th><th>peak_to_peak_g_error</th><th>peak_to_peak_bp</th><th>peak_to_peak_bp_error</th><th>peak_to_peak_rp</th><th>peak_to_peak_rp_error</th><th>metallicity</th><th>metallicity_error</th><th>r21_g</th><th>r21_g_error</th><th>r31_g</th><th>r31_g_error</th><th>phi21_g</th><th>phi21_g_error</th><th>phi31_g</th><th>phi31_g_error</th><th>num_clean_epochs_g</th><th>num_clean_epochs_bp</th><th>num_clean_epochs_rp</th><th>g_absorption</th><th>g_absorption_error</th><th>best_classification</th><th>source_id</th></tr></thead>\n",
       "<thead><tr><th></th><th></th><th></th><th>yr</th><th>deg</th><th>mas</th><th>deg</th><th>mas</th><th>mas</th><th>mas</th><th></th><th>mas / yr</th><th>mas / yr</th><th>mas / yr</th><th>mas / yr</th><th></th><th></th><th></th><th></th><th></th><th></th><th></th><th></th><th></th><th></th><th></th><th></th><th></th><th></th><th></th><th></th><th>mas</th><th></th><th></th><th></th><th>1 / mas2</th><th>1 / um</th><th>1 / um</th><th></th><th></th><th></th><th>mas</th><th></th><th></th><th></th><th></th><th>electron / s</th><th>electron / s</th><th></th><th>mag</th><th></th><th>electron / s</th><th>electron / s</th><th></th><th>mag</th><th></th><th>electron / s</th><th>electron / s</th><th></th><th>mag</th><th></th><th></th><th>mag</th><th>mag</th><th>mag</th><th>km / s</th><th>km / s</th><th></th><th>K</th><th>log(cm.s**-2)</th><th>dex</th><th></th><th>deg</th><th>deg</th><th>deg</th><th>deg</th><th></th><th>K</th><th>K</th><th>K</th><th>mag</th><th>mag</th><th>mag</th><th>mag</th><th>mag</th><th>mag</th><th></th><th>Rsun</th><th>Rsun</th><th>Rsun</th><th>Lsun</th><th>Lsun</th><th>Lsun</th><th></th><th></th><th></th><th>d</th><th>d</th><th>d</th><th>d</th><th>d</th><th>d</th><th>d</th><th>d</th><th>d</th><th>d</th><th>d</th><th>d</th><th>d</th><th>d</th><th>mag</th><th>mag</th><th>mag</th><th>mag</th><th>mag</th><th>mag</th><th>mag</th><th>mag</th><th>mag</th><th>mag</th><th>mag</th><th>mag</th><th>dex</th><th>dex</th><th></th><th></th><th></th><th></th><th>rad</th><th>rad</th><th>rad</th><th>rad</th><th></th><th></th><th></th><th>mag</th><th>mag</th><th></th><th></th></tr></thead>\n",
       "<thead><tr><th>int64</th><th>object</th><th>int64</th><th>float64</th><th>float64</th><th>float64</th><th>float64</th><th>float64</th><th>float64</th><th>float64</th><th>float32</th><th>float64</th><th>float64</th><th>float64</th><th>float64</th><th>float32</th><th>float32</th><th>float32</th><th>float32</th><th>float32</th><th>float32</th><th>float32</th><th>float32</th><th>float32</th><th>float32</th><th>int32</th><th>int32</th><th>int32</th><th>int32</th><th>float32</th><th>float32</th><th>float64</th><th>float64</th><th>int16</th><th>bool</th><th>float32</th><th>float64</th><th>float64</th><th>float32</th><th>int16</th><th>int16</th><th>float32</th><th>int32</th><th>int16</th><th>bool</th><th>int32</th><th>float64</th><th>float64</th><th>float32</th><th>float32</th><th>int32</th><th>float64</th><th>float64</th><th>float32</th><th>float32</th><th>int32</th><th>float64</th><th>float64</th><th>float32</th><th>float32</th><th>float32</th><th>int16</th><th>float32</th><th>float32</th><th>float32</th><th>float64</th><th>float64</th><th>int32</th><th>float32</th><th>float32</th><th>float32</th><th>object</th><th>float64</th><th>float64</th><th>float64</th><th>float64</th><th>int64</th><th>float32</th><th>float32</th><th>float32</th><th>float32</th><th>float32</th><th>float32</th><th>float32</th><th>float32</th><th>float32</th><th>int64</th><th>float32</th><th>float32</th><th>float32</th><th>float32</th><th>float32</th><th>float32</th><th>object</th><th>object</th><th>int64</th><th>float64</th><th>float64</th><th>float64</th><th>float64</th><th>float64</th><th>float64</th><th>float64</th><th>float64</th><th>float64</th><th>float64</th><th>float64</th><th>float64</th><th>float64</th><th>float64</th><th>float64</th><th>float64</th><th>float64</th><th>float64</th><th>float64</th><th>float64</th><th>float64</th><th>float64</th><th>float64</th><th>float64</th><th>float64</th><th>float64</th><th>float64</th><th>float64</th><th>float64</th><th>float64</th><th>float64</th><th>float64</th><th>float64</th><th>float64</th><th>float64</th><th>float64</th><th>int32</th><th>int32</th><th>int32</th><th>float64</th><th>float64</th><th>object</th><th>int64</th></tr></thead>\n",
       "<tr><td>1635721458409799680</td><td>Gaia DR2 5866125710834119808</td><td>841033097</td><td>2015.5</td><td>212.93756378519396</td><td>1.8166386676862833</td><td>-62.00766431869603</td><td>1.9494294407044717</td><td>--</td><td>--</td><td>--</td><td>--</td><td>--</td><td>--</td><td>--</td><td>0.31046233</td><td>--</td><td>--</td><td>--</td><td>--</td><td>--</td><td>--</td><td>--</td><td>--</td><td>--</td><td>259</td><td>0</td><td>231</td><td>28</td><td>67.230064</td><td>6779.6177</td><td>16.72209529440281</td><td>438.67290855591904</td><td>3</td><td>False</td><td>0.003361351</td><td>--</td><td>--</td><td>0.10480966</td><td>29</td><td>15</td><td>3.7726257</td><td>0</td><td>60</td><td>False</td><td>281</td><td>212.54615678602676</td><td>2.772769862538066</td><td>76.654816</td><td>19.869732</td><td>18</td><td>127.61664361841025</td><td>9.977644578355545</td><td>12.790257</td><td>20.08662</td><td>17</td><td>438.9650864709696</td><td>8.084114910517004</td><td>54.29971</td><td>18.155846</td><td>2.665688</td><td>0</td><td>1.9307747</td><td>0.21688843</td><td>1.7138863</td><td>--</td><td>--</td><td>0</td><td>--</td><td>--</td><td>--</td><td>VARIABLE</td><td>312.2048650004261</td><td>-0.5905028460928805</td><td>236.0628725445558</td><td>-45.12387215531128</td><td>--</td><td>--</td><td>--</td><td>--</td><td>--</td><td>--</td><td>--</td><td>--</td><td>--</td><td>--</td><td>--</td><td>--</td><td>--</td><td>--</td><td>--</td><td>--</td><td>--</td><td>https://gea.esac.esa.int/data-server/datalink/links?ID=Gaia+DR2+5866125710834119808</td><td>http://geadata.esac.esa.int/data-server/data?RETRIEVAL_TYPE=epoch_photometry&amp;ID=5866125710834119808</td><td>369295551293819386</td><td>0.45207240076998667</td><td>1.3003196171988113e-06</td><td>--</td><td>--</td><td>--</td><td>--</td><td>--</td><td>--</td><td>1700.6320136814795</td><td>1.8389296380623503e-06</td><td>1783.0270727437294</td><td>1.8389296380623503e-06</td><td>1783.019968286169</td><td>1.8389296380623503e-06</td><td>19.829002378100697</td><td>0.0017611118938539022</td><td>20.05887749491192</td><td>0.055322172004415006</td><td>18.142943674742085</td><td>0.00980144855856893</td><td>0.6108646433568055</td><td>0.010067274726763064</td><td>0.5065093441972692</td><td>0.2519379630043119</td><td>0.03224426272644365</td><td>0.060876173636291726</td><td>--</td><td>--</td><td>0.5597453419602187</td><td>0.01980461486583596</td><td>--</td><td>--</td><td>3.4572796602163507</td><td>0.04746986161849459</td><td>--</td><td>--</td><td>57</td><td>17</td><td>16</td><td>6.536679457310559</td><td>0.0873667746655819</td><td>RRab</td><td>5866125710834119808</td></tr>\n",
       "<tr><td>1635721458409799680</td><td>Gaia DR2 5978435871487788288</td><td>1394969254</td><td>2015.5</td><td>256.52946118354015</td><td>0.20714689544406545</td><td>-33.46946031801863</td><td>0.13807574838856923</td><td>-0.03711922192741894</td><td>0.2057385795212982</td><td>-0.18041936</td><td>-3.9403068889750053</td><td>0.3913553483085135</td><td>-9.392603931118286</td><td>0.24549841251504723</td><td>0.5906968</td><td>-0.04841916</td><td>-0.36727545</td><td>-0.4132167</td><td>-0.22954896</td><td>-0.374951</td><td>-0.7600229</td><td>-0.16407365</td><td>0.34271336</td><td>0.5179412</td><td>367</td><td>9</td><td>366</td><td>1</td><td>0.7496185</td><td>380.82794</td><td>0.0</td><td>0.0</td><td>31</td><td>False</td><td>0.57872975</td><td>1.3012093326573464</td><td>0.03148215180276991</td><td>0.19184214</td><td>42</td><td>12</td><td>0.3832135</td><td>0</td><td>42</td><td>False</td><td>366</td><td>839.3935872409703</td><td>6.1547750714583636</td><td>136.38087</td><td>18.378452</td><td>36</td><td>199.36488863335248</td><td>11.35769374380904</td><td>17.55329</td><td>19.602266</td><td>37</td><td>1079.375396952498</td><td>32.731191622900255</td><td>32.976967</td><td>17.17899</td><td>1.5234096</td><td>0</td><td>2.423277</td><td>1.223814</td><td>1.1994629</td><td>--</td><td>--</td><td>0</td><td>--</td><td>--</td><td>--</td><td>VARIABLE</td><td>351.51460917927676</td><td>4.463133269721636</td><td>258.59943555326515</td><td>-10.561756228549346</td><td>--</td><td>--</td><td>--</td><td>--</td><td>--</td><td>--</td><td>--</td><td>--</td><td>--</td><td>--</td><td>--</td><td>--</td><td>--</td><td>--</td><td>--</td><td>--</td><td>--</td><td>https://gea.esac.esa.int/data-server/datalink/links?ID=Gaia+DR2+5978435871487788288</td><td>http://geadata.esac.esa.int/data-server/data?RETRIEVAL_TYPE=epoch_photometry&amp;ID=5978435871487788288</td><td>369295551293819386</td><td>0.648442595496394</td><td>1.3470624322336533e-06</td><td>--</td><td>--</td><td>--</td><td>--</td><td>--</td><td>--</td><td>1709.290949398965</td><td>1.9050339610281209e-06</td><td>1709.3140540338713</td><td>1.9050339610281209e-06</td><td>1709.3121406809541</td><td>1.9050339610281209e-06</td><td>18.37905582817158</td><td>0.0006249688617317147</td><td>19.477055011641482</td><td>0.015789720173731918</td><td>17.15073891619941</td><td>0.007089873749929578</td><td>0.48610466902325555</td><td>0.0033637645178221307</td><td>0.5504655470455546</td><td>0.07245157079537685</td><td>0.25297190255184177</td><td>0.02761626747777527</td><td>-0.04347318266439615</td><td>0.21938697428693577</td><td>0.46211654418447684</td><td>0.008444382809350011</td><td>0.2652076445305246</td><td>0.007413715850295902</td><td>4.565746788759661</td><td>0.02263850113372803</td><td>3.151089820159477</td><td>0.033069106819820455</td><td>41</td><td>35</td><td>32</td><td>3.6473370781995142</td><td>0.06448844234447489</td><td>RRab</td><td>5978435871487788288</td></tr>\n",
       "<tr><td>1635721458409799680</td><td>Gaia DR2 5704736782734774528</td><td>122877659</td><td>2015.5</td><td>132.81229544277778</td><td>0.14876850985054807</td><td>-19.422831448618513</td><td>0.12269173884768</td><td>0.1807552100718319</td><td>0.16904445135485335</td><td>1.0692762</td><td>0.5257511121433635</td><td>0.3065722526405344</td><td>-2.4214013921720507</td><td>0.1943177196025771</td><td>-0.016570784</td><td>-0.20984171</td><td>-0.015412567</td><td>0.18134952</td><td>0.107995875</td><td>0.18211916</td><td>-0.7274218</td><td>0.21282819</td><td>0.06982193</td><td>0.14240868</td><td>391</td><td>0</td><td>391</td><td>0</td><td>2.0821674</td><td>446.05667</td><td>0.26438433999743205</td><td>0.6530712471071862</td><td>31</td><td>False</td><td>0.61442375</td><td>1.637049710907285</td><td>0.0309467038819178</td><td>-0.080116116</td><td>44</td><td>13</td><td>0.2751315</td><td>0</td><td>45</td><td>False</td><td>401</td><td>815.140519153776</td><td>5.63428068302466</td><td>144.67517</td><td>18.410284</td><td>38</td><td>532.694249359968</td><td>16.537043358583944</td><td>32.21218</td><td>18.535192</td><td>39</td><td>502.15021180815484</td><td>10.54885168382097</td><td>47.602356</td><td>18.009836</td><td>1.2695289</td><td>0</td><td>0.5253563</td><td>0.12490845</td><td>0.40044785</td><td>--</td><td>--</td><td>0</td><td>--</td><td>--</td><td>--</td><td>VARIABLE</td><td>244.93523572376063</td><td>15.511947919912567</td><td>141.90423617727063</td><td>-35.4711584659511</td><td>--</td><td>--</td><td>--</td><td>--</td><td>--</td><td>--</td><td>--</td><td>--</td><td>--</td><td>--</td><td>--</td><td>--</td><td>--</td><td>--</td><td>--</td><td>--</td><td>--</td><td>https://gea.esac.esa.int/data-server/datalink/links?ID=Gaia+DR2+5704736782734774528</td><td>http://geadata.esac.esa.int/data-server/data?RETRIEVAL_TYPE=epoch_photometry&amp;ID=5704736782734774528</td><td>369295551293819386</td><td>0.6270046382069818</td><td>2.9805914933406168e-06</td><td>--</td><td>--</td><td>--</td><td>--</td><td>--</td><td>--</td><td>1762.1223170527178</td><td>4.215192913776177e-06</td><td>1762.1189367162933</td><td>4.215192913776177e-06</td><td>1762.3000815733121</td><td>4.215192913776177e-06</td><td>18.367183031320444</td><td>0.000554359615774292</td><td>18.508340417630986</td><td>0.004206101573781567</td><td>18.009453610798094</td><td>0.005351562385562215</td><td>0.3653407502087944</td><td>0.0020185600813135713</td><td>0.37852292089716855</td><td>0.019769325593019194</td><td>0.17414816631826113</td><td>0.02849018063584878</td><td>--</td><td>--</td><td>--</td><td>--</td><td>--</td><td>--</td><td>--</td><td>--</td><td>--</td><td>--</td><td>44</td><td>37</td><td>34</td><td>--</td><td>--</td><td>RRab</td><td>5704736782734774528</td></tr>\n",
       "<tr><td>1635721458409799680</td><td>Gaia DR2 5816755332315333888</td><td>259791940</td><td>2015.5</td><td>254.94654730343584</td><td>0.05579016401875977</td><td>-65.1781352845064</td><td>0.060768415058966976</td><td>-0.1273657233999701</td><td>0.11444225745964119</td><td>-1.1129256</td><td>-1.2967698150347249</td><td>0.11724068140455939</td><td>-1.484356195061502</td><td>0.14510999163660912</td><td>0.547088</td><td>-0.24095863</td><td>0.32974765</td><td>-0.07336476</td><td>-0.10734217</td><td>0.19958153</td><td>-0.095597565</td><td>-0.40144587</td><td>0.22334947</td><td>-0.16141942</td><td>566</td><td>0</td><td>563</td><td>3</td><td>1.5329384</td><td>610.085</td><td>0.0</td><td>0.0</td><td>31</td><td>False</td><td>1.6141877</td><td>1.6152170026325794</td><td>0.015573605063059092</td><td>-0.007899606</td><td>65</td><td>17</td><td>0.13775699</td><td>0</td><td>69</td><td>False</td><td>598</td><td>1704.5121245394619</td><td>10.327682631111667</td><td>165.04305</td><td>17.609365</td><td>66</td><td>948.1331764202341</td><td>21.509892938713858</td><td>44.078934</td><td>17.909214</td><td>65</td><td>1161.2833679786374</td><td>17.149898912189</td><td>67.713715</td><td>17.099575</td><td>1.2375486</td><td>0</td><td>0.809639</td><td>0.29984856</td><td>0.5097904</td><td>--</td><td>--</td><td>0</td><td>--</td><td>--</td><td>--</td><td>VARIABLE</td><td>325.39118466020113</td><td>-13.825070282241041</td><td>261.5392361533209</td><td>-42.18037586891838</td><td>--</td><td>--</td><td>--</td><td>--</td><td>--</td><td>--</td><td>--</td><td>--</td><td>--</td><td>--</td><td>--</td><td>--</td><td>--</td><td>--</td><td>--</td><td>--</td><td>--</td><td>https://gea.esac.esa.int/data-server/datalink/links?ID=Gaia+DR2+5816755332315333888</td><td>http://geadata.esac.esa.int/data-server/data?RETRIEVAL_TYPE=epoch_photometry&amp;ID=5816755332315333888</td><td>369295551293819386</td><td>0.7913965498561393</td><td>1.5092189854296103e-06</td><td>--</td><td>--</td><td>--</td><td>--</td><td>--</td><td>--</td><td>1703.9974761976036</td><td>2.1343579577855177e-06</td><td>1704.0167528948207</td><td>2.1343579577855177e-06</td><td>1704.0430912518177</td><td>2.1343579577855177e-06</td><td>17.585120849505195</td><td>0.0003669927387024788</td><td>17.894023067042163</td><td>0.0019130044814337321</td><td>17.083056145932968</td><td>0.002077515536999311</td><td>0.4801964780016412</td><td>0.0017617249265559454</td><td>0.5403224127139836</td><td>0.013485703925518205</td><td>0.3496465663698096</td><td>0.010182531120406948</td><td>-0.38174293640950197</td><td>0.21916524180764185</td><td>0.4221742759106887</td><td>0.0034878987822288443</td><td>0.21975978846114191</td><td>0.003453219779328249</td><td>4.460737439139983</td><td>0.01148835315771656</td><td>3.0009840648164285</td><td>0.016616872447630462</td><td>68</td><td>65</td><td>61</td><td>0.334260602939929</td><td>0.051369448434517836</td><td>RRab</td><td>5816755332315333888</td></tr>\n",
       "<tr><td>1635721458409799680</td><td>Gaia DR2 5821611776409134976</td><td>299065082</td><td>2015.5</td><td>246.3262948830741</td><td>0.025965831462791286</td><td>-67.0315899380034</td><td>0.03632178396225853</td><td>0.14405404541313405</td><td>0.053481056825306086</td><td>2.6935527</td><td>-1.8104613492624964</td><td>0.053510261351579075</td><td>-0.43642476797894864</td><td>0.07948036974373797</td><td>0.14919928</td><td>0.12098586</td><td>-0.25563797</td><td>0.013100688</td><td>-0.047125865</td><td>0.00069441175</td><td>-0.3252533</td><td>-0.12802029</td><td>0.2687952</td><td>-0.05498944</td><td>453</td><td>0</td><td>452</td><td>1</td><td>0.57195616</td><td>463.63696</td><td>0.0</td><td>0.0</td><td>31</td><td>False</td><td>5.547596</td><td>1.631618499952455</td><td>0.009048023360267969</td><td>0.06891334</td><td>52</td><td>18</td><td>0.07828749</td><td>0</td><td>55</td><td>False</td><td>479</td><td>4929.768432071951</td><td>28.3211177935604</td><td>174.06688</td><td>16.456299</td><td>52</td><td>2787.322081345367</td><td>64.74055019816696</td><td>43.05373</td><td>16.73842</td><td>51</td><td>3214.55348774172</td><td>43.98881633210166</td><td>73.07661</td><td>15.994119</td><td>1.2174761</td><td>0</td><td>0.7443018</td><td>0.28212166</td><td>0.46218014</td><td>--</td><td>--</td><td>0</td><td>--</td><td>--</td><td>--</td><td>VARIABLE</td><td>321.65051144333967</td><td>-12.303684529427512</td><td>257.2799586715568</td><td>-44.634745452717326</td><td>100001</td><td>6017.1</td><td>5675.1</td><td>6427.0</td><td>--</td><td>--</td><td>--</td><td>--</td><td>--</td><td>--</td><td>--</td><td>--</td><td>--</td><td>--</td><td>--</td><td>--</td><td>--</td><td>https://gea.esac.esa.int/data-server/datalink/links?ID=Gaia+DR2+5821611776409134976</td><td>http://geadata.esac.esa.int/data-server/data?RETRIEVAL_TYPE=epoch_photometry&amp;ID=5821611776409134976</td><td>369295551293819386</td><td>0.7982343357378148</td><td>1.349458892612425e-06</td><td>--</td><td>--</td><td>--</td><td>--</td><td>--</td><td>--</td><td>1702.5290893966207</td><td>1.90842306779747e-06</td><td>1702.514925327494</td><td>1.90842306779747e-06</td><td>1702.5339602708698</td><td>1.90842306779747e-06</td><td>16.457312500364054</td><td>0.00019430738023192256</td><td>16.73802747970098</td><td>0.0012066558508083242</td><td>15.995031964185294</td><td>0.0014031686149913482</td><td>0.44558736648837893</td><td>0.0012549092356595821</td><td>0.5528147560233201</td><td>0.009221226515577725</td><td>0.33300755745194976</td><td>0.010699907078849722</td><td>-0.7207811707431482</td><td>0.21891855965990115</td><td>0.42287811372848644</td><td>0.0025492572097941288</td><td>0.2076157025484752</td><td>0.002194385180673504</td><td>4.3830667585908945</td><td>0.007629041622949655</td><td>2.8483052058921166</td><td>0.013845038023887264</td><td>53</td><td>51</td><td>47</td><td>0.18475574591086497</td><td>0.051124143364081415</td><td>RRab</td><td>5821611776409134976</td></tr>\n",
       "<tr><td>1635721458409799680</td><td>Gaia DR2 5642603243216872576</td><td>1311594757</td><td>2015.5</td><td>132.9564341215911</td><td>0.04784465607078992</td><td>-28.940263029734908</td><td>0.06321537493960745</td><td>-0.06825272462172897</td><td>0.08533054965743588</td><td>-0.7998627</td><td>-0.7262976013223288</td><td>0.11509815429262628</td><td>-1.158103370066311</td><td>0.12750636342382088</td><td>0.48201314</td><td>-0.24996509</td><td>-0.15172628</td><td>-0.14830747</td><td>-0.17167832</td><td>-0.16914366</td><td>-0.26164368</td><td>0.1540253</td><td>0.04187982</td><td>0.4826505</td><td>449</td><td>0</td><td>449</td><td>0</td><td>1.1456239</td><td>478.32034</td><td>0.0</td><td>0.0</td><td>31</td><td>False</td><td>2.0901024</td><td>1.6566305040688878</td><td>0.014154099802123414</td><td>-0.024025327</td><td>51</td><td>16</td><td>0.13697352</td><td>0</td><td>53</td><td>False</td><td>430</td><td>2144.59351031823</td><td>22.51419340909634</td><td>95.25518</td><td>17.360003</td><td>46</td><td>1278.7633365483646</td><td>51.715874360034675</td><td>24.726707</td><td>17.584414</td><td>48</td><td>1490.4305096904548</td><td>50.68852771805313</td><td>29.403706</td><td>16.82864</td><td>1.2912441</td><td>0</td><td>0.75577354</td><td>0.22441101</td><td>0.53136253</td><td>--</td><td>--</td><td>0</td><td>--</td><td>--</td><td>--</td><td>VARIABLE</td><td>252.7294465254836</td><td>9.78297575111969</td><td>146.47118386921983</td><td>-44.32561331927542</td><td>--</td><td>--</td><td>--</td><td>--</td><td>--</td><td>--</td><td>--</td><td>--</td><td>--</td><td>--</td><td>--</td><td>--</td><td>--</td><td>--</td><td>--</td><td>--</td><td>--</td><td>https://gea.esac.esa.int/data-server/datalink/links?ID=Gaia+DR2+5642603243216872576</td><td>http://geadata.esac.esa.int/data-server/data?RETRIEVAL_TYPE=epoch_photometry&amp;ID=5642603243216872576</td><td>369295551293819386</td><td>0.8254445110365414</td><td>9.942078720428564e-07</td><td>--</td><td>--</td><td>--</td><td>--</td><td>--</td><td>--</td><td>1763.6754357621628</td><td>1.4060222564611023e-06</td><td>1763.7418835903115</td><td>1.4060222564611023e-06</td><td>1763.7459517331677</td><td>1.4060222564611023e-06</td><td>17.220733966602264</td><td>0.00037592206641573126</td><td>17.534569569048838</td><td>0.004780833564330928</td><td>16.865362388650986</td><td>0.007602640401945452</td><td>1.1097678562588271</td><td>0.0028550434911778382</td><td>0.8287775068294394</td><td>0.019181760889122122</td><td>0.5305171899191379</td><td>0.014947855790453228</td><td>--</td><td>--</td><td>0.42281900907752595</td><td>0.0020484986335291147</td><td>0.33632739212905927</td><td>0.0021368827327995685</td><td>3.87961811815844</td><td>0.008128197222777024</td><td>1.5715564319864317</td><td>0.00550446334066122</td><td>52</td><td>45</td><td>43</td><td>--</td><td>--</td><td>RRab</td><td>5642603243216872576</td></tr>\n",
       "<tr><td>1635721458409799680</td><td>Gaia DR2 5813181197970338560</td><td>1546661016</td><td>2015.5</td><td>263.35817148226175</td><td>0.01142059074915829</td><td>-66.89556195436406</td><td>0.01786378396780881</td><td>0.0622206681030434</td><td>0.025033899223488296</td><td>2.4854565</td><td>-4.338169826859215</td><td>0.028065670007414344</td><td>-4.814096528957489</td><td>0.03862106564659614</td><td>0.37633806</td><td>-0.08205498</td><td>-0.44878015</td><td>-0.20866682</td><td>-0.051558413</td><td>-0.28370404</td><td>-0.2850578</td><td>-0.16603434</td><td>0.13481753</td><td>-0.038025424</td><td>716</td><td>0</td><td>715</td><td>1</td><td>-1.2721864</td><td>662.49445</td><td>0.0</td><td>3.0169354228876002e-15</td><td>31</td><td>False</td><td>22.329409</td><td>1.6372976688060679</td><td>0.003708889398857713</td><td>-0.00855113</td><td>82</td><td>18</td><td>0.043943774</td><td>0</td><td>85</td><td>False</td><td>743</td><td>17692.43516206471</td><td>117.44914380930787</td><td>150.63911</td><td>15.068896</td><td>83</td><td>10281.052760354723</td><td>249.32455272073634</td><td>41.235622</td><td>15.321294</td><td>83</td><td>11312.035354757883</td><td>170.25101568804558</td><td>66.443275</td><td>14.628068</td><td>1.2204701</td><td>0</td><td>0.69322586</td><td>0.25239754</td><td>0.44082832</td><td>--</td><td>--</td><td>0</td><td>--</td><td>--</td><td>--</td><td>VARIABLE</td><td>325.76955651564157</td><td>-17.627298704657328</td><td>266.41032894181296</td><td>-43.539024481088596</td><td>100001</td><td>6402.3945</td><td>6154.83</td><td>6744.0</td><td>--</td><td>--</td><td>--</td><td>--</td><td>--</td><td>--</td><td>--</td><td>--</td><td>--</td><td>--</td><td>--</td><td>--</td><td>--</td><td>https://gea.esac.esa.int/data-server/datalink/links?ID=Gaia+DR2+5813181197970338560</td><td>http://geadata.esac.esa.int/data-server/data?RETRIEVAL_TYPE=epoch_photometry&amp;ID=5813181197970338560</td><td>369295551293819386</td><td>0.9576506522842548</td><td>2.9218694787229424e-07</td><td>--</td><td>--</td><td>--</td><td>--</td><td>--</td><td>--</td><td>1703.186659792172</td><td>4.132147444293991e-07</td><td>1703.1860262585833</td><td>4.132147444293991e-07</td><td>1703.1918151905295</td><td>4.132147444293991e-07</td><td>15.075666023070966</td><td>5.824257796191334e-05</td><td>15.318608339616892</td><td>0.0005924072862000843</td><td>14.641154207793663</td><td>0.00030192630874490464</td><td>0.6195616055656288</td><td>0.0005055757603992529</td><td>0.7610101678516124</td><td>0.005521480141471115</td><td>0.4650359261742434</td><td>0.003420129304852395</td><td>--</td><td>--</td><td>0.37070499038850246</td><td>0.0007500914611070431</td><td>0.29907193313231056</td><td>0.0007401404927273667</td><td>3.948367969218644</td><td>0.0026536860740495024</td><td>1.6486758740335237</td><td>0.002497036282800892</td><td>85</td><td>73</td><td>83</td><td>0.05589850894230958</td><td>0.05078346806008997</td><td>RRab</td><td>5813181197970338560</td></tr>\n",
       "<tr><td>1635721458409799680</td><td>Gaia DR2 5630421856972980224</td><td>923739124</td><td>2015.5</td><td>140.99364763000955</td><td>0.056076850885041093</td><td>-32.8781089838979</td><td>0.09577455166966663</td><td>0.05749466193592333</td><td>0.1292740228959422</td><td>0.4447503</td><td>-2.584132456380375</td><td>0.13496572326590098</td><td>0.48064721295382895</td><td>0.19577436340928162</td><td>0.4562051</td><td>-0.18518652</td><td>0.3042433</td><td>0.23610301</td><td>-0.06597065</td><td>0.12953633</td><td>-0.2920577</td><td>-0.13214926</td><td>-0.18929698</td><td>0.64475787</td><td>678</td><td>0</td><td>671</td><td>7</td><td>2.6846557</td><td>768.1308</td><td>0.14600949547738662</td><td>0.42013443616733764</td><td>31</td><td>False</td><td>1.0558021</td><td>1.6617022919049458</td><td>0.01738147958064468</td><td>0.011925055</td><td>77</td><td>16</td><td>0.19798602</td><td>0</td><td>79</td><td>False</td><td>685</td><td>1251.433337275444</td><td>5.734254748027766</td><td>218.23819</td><td>17.944847</td><td>77</td><td>757.8018003181274</td><td>14.998055103134606</td><td>50.526672</td><td>18.152498</td><td>73</td><td>788.9174627128675</td><td>9.928127791055543</td><td>79.46286</td><td>17.51934</td><td>1.2359582</td><td>0</td><td>0.63315773</td><td>0.20765114</td><td>0.4255066</td><td>--</td><td>--</td><td>0</td><td>--</td><td>--</td><td>--</td><td>VARIABLE</td><td>260.3807361116678</td><td>12.357643754003309</td><td>157.59600640017223</td><td>-45.09842937723624</td><td>--</td><td>--</td><td>--</td><td>--</td><td>--</td><td>--</td><td>--</td><td>--</td><td>--</td><td>--</td><td>--</td><td>--</td><td>--</td><td>--</td><td>--</td><td>--</td><td>--</td><td>https://gea.esac.esa.int/data-server/datalink/links?ID=Gaia+DR2+5630421856972980224</td><td>http://geadata.esac.esa.int/data-server/data?RETRIEVAL_TYPE=epoch_photometry&amp;ID=5630421856972980224</td><td>369295551293819386</td><td>0.6572741248978469</td><td>1.8934731758948193e-06</td><td>--</td><td>--</td><td>--</td><td>--</td><td>--</td><td>--</td><td>1766.0948496402764</td><td>2.6777754453401106e-06</td><td>1766.1538829707633</td><td>2.6777754453401106e-06</td><td>1766.1071093963478</td><td>2.6777754453401106e-06</td><td>17.920873132341523</td><td>0.0002591948821295904</td><td>18.166363560302177</td><td>0.002348563629177847</td><td>17.50856054977295</td><td>0.0019033482058768794</td><td>0.29561545993803406</td><td>0.001242222356927308</td><td>0.23641951739802636</td><td>0.014519858358375574</td><td>0.23122700270779717</td><td>0.018574575340217822</td><td>--</td><td>--</td><td>--</td><td>--</td><td>--</td><td>--</td><td>--</td><td>--</td><td>--</td><td>--</td><td>77</td><td>64</td><td>70</td><td>0.05384114685281277</td><td>0.05149313218004928</td><td>RRab</td><td>5630421856972980224</td></tr>\n",
       "<tr><td>1635721458409799680</td><td>Gaia DR2 5810405553887250432</td><td>191264318</td><td>2015.5</td><td>268.50110356278077</td><td>0.013193919638895513</td><td>-69.44110340352395</td><td>0.017821083318731012</td><td>0.35710216309907994</td><td>0.02468305131096079</td><td>14.4675045</td><td>-17.840562265664357</td><td>0.0293650699866481</td><td>-17.19031003473525</td><td>0.037312753701534786</td><td>0.16835298</td><td>-0.1393485</td><td>-0.2745459</td><td>-0.13788916</td><td>-0.1559459</td><td>-0.118581556</td><td>-0.20130852</td><td>-0.25910968</td><td>0.034931432</td><td>-0.07765959</td><td>465</td><td>465</td><td>464</td><td>1</td><td>7.0770454</td><td>707.65674</td><td>0.0</td><td>0.0</td><td>31</td><td>True</td><td>274.57092</td><td>1.6287216212620592</td><td>0.0042601101348824525</td><td>0.0011010866</td><td>53</td><td>19</td><td>0.02846134</td><td>0</td><td>56</td><td>True</td><td>493</td><td>192137.07731275688</td><td>931.1017878531039</td><td>206.35454</td><td>12.479338</td><td>54</td><td>108730.30922905772</td><td>1941.9213465461864</td><td>55.9911</td><td>12.760511</td><td>54</td><td>124598.34132443467</td><td>1405.9155203571556</td><td>88.624344</td><td>12.023139</td><td>1.2143863</td><td>0</td><td>0.7373724</td><td>0.2811737</td><td>0.4561987</td><td>5.8312147137165695</td><td>3.8215237912148474</td><td>21</td><td>6500.0</td><td>3.5</td><td>-1.5</td><td>VARIABLE</td><td>324.22201353060285</td><td>-20.452947761698702</td><td>269.24225735915115</td><td>-46.005765077965094</td><td>100001</td><td>6017.467</td><td>5711.5</td><td>6345.22</td><td>1.887</td><td>1.6505</td><td>2.0465</td><td>0.935</td><td>0.8306</td><td>1.0287</td><td>200111</td><td>7.0563602</td><td>6.346215</td><td>7.8326335</td><td>58.818104</td><td>51.828144</td><td>65.80806</td><td>https://gea.esac.esa.int/data-server/datalink/links?ID=Gaia+DR2+5810405553887250432</td><td>http://geadata.esac.esa.int/data-server/data?RETRIEVAL_TYPE=epoch_photometry&amp;ID=5810405553887250432</td><td>369295551293819386</td><td>0.8469022750987595</td><td>3.934306323610434e-07</td><td>--</td><td>--</td><td>--</td><td>--</td><td>--</td><td>--</td><td>1703.9207440836965</td><td>5.563949361380107e-07</td><td>1703.9244488643133</td><td>5.563949361380107e-07</td><td>1703.9397738069101</td><td>5.563949361380107e-07</td><td>12.446720028821767</td><td>5.987932376764933e-05</td><td>12.722961595348352</td><td>0.000270661782649063</td><td>12.001967465762977</td><td>0.00019685117198989265</td><td>0.36519099291188617</td><td>0.0004552801375266683</td><td>0.41373488267768366</td><td>0.002351937330692199</td><td>0.28585443475253847</td><td>0.001534775807978758</td><td>-0.16407173690083</td><td>0.21720623557631077</td><td>0.38292915313477044</td><td>0.0008170983361398055</td><td>0.16051617178768549</td><td>0.0006818334210481383</td><td>4.5512964798092455</td><td>0.002361834012724558</td><td>3.1292364019079386</td><td>0.005346998777275805</td><td>56</td><td>50</td><td>54</td><td>0.09098005332957743</td><td>0.050787345583249474</td><td>RRab</td><td>5810405553887250432</td></tr>\n",
       "<tr><td>1635721458409799680</td><td>Gaia DR2 5821156028840408576</td><td>1453327615</td><td>2015.5</td><td>244.35278635111487</td><td>0.016382404793707738</td><td>-67.68376311680626</td><td>0.021277095618219246</td><td>0.0439168177392241</td><td>0.031202111071987216</td><td>1.407495</td><td>-1.6177007459843051</td><td>0.03258119059756789</td><td>-5.587665592111401</td><td>0.046095718378067314</td><td>0.18157846</td><td>0.0024497146</td><td>-0.27917755</td><td>-0.014763004</td><td>-0.12812693</td><td>-0.0040498213</td><td>-0.24561423</td><td>-0.17352906</td><td>0.19042113</td><td>0.022072986</td><td>453</td><td>9</td><td>453</td><td>0</td><td>-0.41224512</td><td>435.11896</td><td>0.0</td><td>0.0</td><td>31</td><td>False</td><td>15.267651</td><td>1.6209535578661978</td><td>0.005773246892233835</td><td>0.050968036</td><td>52</td><td>18</td><td>0.048848037</td><td>0</td><td>55</td><td>False</td><td>479</td><td>12481.654975785474</td><td>54.76784622277043</td><td>227.90115</td><td>15.447685</td><td>50</td><td>6999.609149892171</td><td>118.04650703272182</td><td>59.295353</td><td>15.738704</td><td>50</td><td>8237.294539639042</td><td>89.10188504913421</td><td>92.44804</td><td>14.972459</td><td>1.2207439</td><td>0</td><td>0.7662449</td><td>0.2910185</td><td>0.4752264</td><td>--</td><td>--</td><td>0</td><td>--</td><td>--</td><td>--</td><td>VARIABLE</td><td>320.6308676873692</td><td>-12.205879370520949</td><td>256.4516853501125</td><td>-45.44708398621595</td><td>100001</td><td>5861.0</td><td>5520.0</td><td>6304.2803</td><td>1.5417</td><td>1.1517</td><td>1.9738</td><td>0.8325</td><td>0.594</td><td>0.982</td><td>--</td><td>--</td><td>--</td><td>--</td><td>--</td><td>--</td><td>--</td><td>https://gea.esac.esa.int/data-server/datalink/links?ID=Gaia+DR2+5821156028840408576</td><td>http://geadata.esac.esa.int/data-server/data?RETRIEVAL_TYPE=epoch_photometry&amp;ID=5821156028840408576</td><td>369295551293819386</td><td>0.7773488718545486</td><td>7.63492361798178e-07</td><td>--</td><td>--</td><td>--</td><td>--</td><td>--</td><td>--</td><td>1702.3572763643815</td><td>1.0797412528232493e-06</td><td>1702.3591154888597</td><td>1.0797412528232493e-06</td><td>1702.3732315061814</td><td>1.0797412528232493e-06</td><td>15.397989245346707</td><td>0.00018422985400678177</td><td>15.669841152926839</td><td>0.002485507469266803</td><td>14.938531163003297</td><td>0.0013388180004571867</td><td>0.3532909307616521</td><td>0.0007256978153520514</td><td>0.4655350656208519</td><td>0.012348128038429959</td><td>0.28804573451268745</td><td>0.006776837806449308</td><td>-0.8676248328215301</td><td>0.21839513703566718</td><td>0.3771772774517759</td><td>0.0015841559110406744</td><td>0.17798476818617978</td><td>0.0022169626628898795</td><td>4.295090607720706</td><td>0.006216476473590551</td><td>2.7601925420230344</td><td>0.011115042191369282</td><td>55</td><td>45</td><td>46</td><td>0.16878233093403966</td><td>0.051106783890825236</td><td>RRab</td><td>5821156028840408576</td></tr>\n",
       "</table>"
      ],
      "text/plain": [
       "<Table length=10>\n",
       "    solution_id             designation          ...      source_id     \n",
       "                                                 ...                    \n",
       "       int64                   object            ...        int64       \n",
       "------------------- ---------------------------- ... -------------------\n",
       "1635721458409799680 Gaia DR2 5866125710834119808 ... 5866125710834119808\n",
       "1635721458409799680 Gaia DR2 5978435871487788288 ... 5978435871487788288\n",
       "1635721458409799680 Gaia DR2 5704736782734774528 ... 5704736782734774528\n",
       "1635721458409799680 Gaia DR2 5816755332315333888 ... 5816755332315333888\n",
       "1635721458409799680 Gaia DR2 5821611776409134976 ... 5821611776409134976\n",
       "1635721458409799680 Gaia DR2 5642603243216872576 ... 5642603243216872576\n",
       "1635721458409799680 Gaia DR2 5813181197970338560 ... 5813181197970338560\n",
       "1635721458409799680 Gaia DR2 5630421856972980224 ... 5630421856972980224\n",
       "1635721458409799680 Gaia DR2 5810405553887250432 ... 5810405553887250432\n",
       "1635721458409799680 Gaia DR2 5821156028840408576 ... 5821156028840408576"
      ]
     },
     "execution_count": 5,
     "metadata": {},
     "output_type": "execute_result"
    }
   ],
   "source": [
    "rrlyrae_100 = get_gaia_query_rrlyrae_cached(num_stars = 100, num_clean_epochs=40)\n",
    "rrlyrae_100[:10]"
   ]
  },
  {
   "cell_type": "code",
   "execution_count": 9,
   "metadata": {},
   "outputs": [
    {
     "data": {
      "text/plain": [
       "array([[0., 0., 0., 0., 0., 0., 0., 0.],\n",
       "       [0., 0., 0., 0., 0., 0., 0., 0.],\n",
       "       [0., 0., 0., 0., 0., 0., 0., 0.],\n",
       "       [0., 0., 0., 0., 0., 0., 0., 0.],\n",
       "       [0., 0., 0., 0., 0., 0., 0., 0.],\n",
       "       [0., 0., 0., 0., 0., 0., 0., 0.],\n",
       "       [0., 0., 0., 0., 0., 0., 0., 0.],\n",
       "       [0., 0., 0., 0., 0., 0., 0., 0.]])"
      ]
     },
     "execution_count": 9,
     "metadata": {},
     "output_type": "execute_result"
    }
   ],
   "source": [
    "np.zeros((8,8))"
   ]
  },
  {
   "cell_type": "code",
   "execution_count": null,
   "metadata": {},
   "outputs": [],
   "source": []
  }
 ],
 "metadata": {
  "kernelspec": {
   "display_name": "Python 3",
   "language": "python",
   "name": "python3"
  },
  "language_info": {
   "codemirror_mode": {
    "name": "ipython",
    "version": 3
   },
   "file_extension": ".py",
   "mimetype": "text/x-python",
   "name": "python",
   "nbconvert_exporter": "python",
   "pygments_lexer": "ipython3",
   "version": "3.6.9"
  }
 },
 "nbformat": 4,
 "nbformat_minor": 4
}
